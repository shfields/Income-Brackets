{
 "cells": [
  {
   "cell_type": "markdown",
   "metadata": {},
   "source": [
    "# Predicting Income Brackets"
   ]
  },
  {
   "cell_type": "code",
   "execution_count": 21,
   "metadata": {},
   "outputs": [],
   "source": [
    "import pandas as pd\n",
    "\n",
    "df_adults = pd.read_csv(r'C:\\Users\\Owner\\Downloads\\adult.csv')"
   ]
  },
  {
   "cell_type": "code",
   "execution_count": 23,
   "metadata": {},
   "outputs": [
    {
     "name": "stdout",
     "output_type": "stream",
     "text": [
      "   age          workclass  fnlwgt   education  education-num  \\\n",
      "0   39          State-gov   77516   Bachelors             13   \n",
      "1   50   Self-emp-not-inc   83311   Bachelors             13   \n",
      "2   38            Private  215646     HS-grad              9   \n",
      "3   53            Private  234721        11th              7   \n",
      "4   28            Private  338409   Bachelors             13   \n",
      "\n",
      "        marital-status          occupation       op-inspct relationship  \\\n",
      "0        Never-married        Adm-clerical   Not-in-family        White   \n",
      "1   Married-civ-spouse     Exec-managerial         Husband        White   \n",
      "2             Divorced   Handlers-cleaners   Not-in-family        White   \n",
      "3   Married-civ-spouse   Handlers-cleaners         Husband        Black   \n",
      "4   Married-civ-spouse      Prof-specialty            Wife        Black   \n",
      "\n",
      "      race   sex  capital-gain  capital-loss  natice-country  income  \n",
      "0     Male  2174             0            40   United-States   <=50K  \n",
      "1     Male     0             0            13   United-States   <=50K  \n",
      "2     Male     0             0            40   United-States   <=50K  \n",
      "3     Male     0             0            40   United-States   <=50K  \n",
      "4   Female     0             0            40            Cuba   <=50K  \n"
     ]
    }
   ],
   "source": [
    "print(df_adults.head())"
   ]
  },
  {
   "cell_type": "code",
   "execution_count": null,
   "metadata": {},
   "outputs": [],
   "source": []
  },
  {
   "cell_type": "code",
   "execution_count": null,
   "metadata": {},
   "outputs": [],
   "source": []
  }
 ],
 "metadata": {
  "kernelspec": {
   "display_name": "Python 3",
   "language": "python",
   "name": "python3"
  },
  "language_info": {
   "codemirror_mode": {
    "name": "ipython",
    "version": 3
   },
   "file_extension": ".py",
   "mimetype": "text/x-python",
   "name": "python",
   "nbconvert_exporter": "python",
   "pygments_lexer": "ipython3",
   "version": "3.6.5"
  }
 },
 "nbformat": 4,
 "nbformat_minor": 2
}
